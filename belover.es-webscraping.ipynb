{
 "cells": [
  {
   "cell_type": "code",
   "execution_count": 2,
   "id": "ba5420d3",
   "metadata": {},
   "outputs": [],
   "source": [
    "import requests\n",
    "from bs4 import BeautifulSoup\n",
    "import pandas as pd\n",
    "\n",
    "headers = {\n",
    "    'User-Agent': 'Mozilla/5.0 (Windows NT 10.0; Win64; x64) AppleWebKit/537.36 (KHTML, like Gecko) Chrome/74.0.3729.169 Safari/537.36'\n",
    "}\n",
    "\n",
    "links = []\n",
    "\n",
    "for x in range(1,16):\n",
    "    r = requests.get(f'https://belover.es/juguetes/page/{x}/')\n",
    "    soup = BeautifulSoup(r.content, 'lxml', from_encoding=\"utf-8\")\n",
    "    product_list = soup.find_all('ul', class_='products columns-3')\n",
    "    for item in product_list:\n",
    "        for link in item.find_all('a', href=True):\n",
    "            links.append(link['href'])"
   ]
  },
  {
   "cell_type": "code",
   "execution_count": 23,
   "id": "8134822d",
   "metadata": {},
   "outputs": [
    {
     "ename": "SyntaxError",
     "evalue": "invalid syntax (Temp/ipykernel_20032/2666906788.py, line 17)",
     "output_type": "error",
     "traceback": [
      "\u001b[1;36m  File \u001b[1;32m\"C:\\Users\\jshev\\AppData\\Local\\Temp/ipykernel_20032/2666906788.py\"\u001b[1;36m, line \u001b[1;32m17\u001b[0m\n\u001b[1;33m    if price = soup.find('div',class_='col-xs-12 content-precio-producto').find('div', class_='precio-activo').find('span',class_='woocommerce-Price-amount amount').text.replace('€',''):\u001b[0m\n\u001b[1;37m             ^\u001b[0m\n\u001b[1;31mSyntaxError\u001b[0m\u001b[1;31m:\u001b[0m invalid syntax\n"
     ]
    }
   ],
   "source": [
    "toy_list = []\n",
    "for link in links:\n",
    "    r = requests.get(link, headers=headers)\n",
    "    soup = BeautifulSoup(r.content, 'lxml')\n",
    "    try:\n",
    "        name = soup.find('h1').text.strip()\n",
    "    except:\n",
    "        name = '-'\n",
    "     \n",
    "    try:    \n",
    "        brand = soup.find('span',class_='marca-producto').text.strip()\n",
    "        \n",
    "    except:\n",
    "        brand = '-'\n",
    "        \n",
    "    try:    \n",
    "        price = soup.find('div',class_='col-xs-12 content-precio-producto').find('div', class_='precio-activo').find('span',class_='woocommerce-Price-amount amount').text.replace('€',''):\n",
    "\n",
    "    except:\n",
    "        price = '-'\n",
    "    \n",
    "    try:\n",
    "        oldprice = soup.find('div',class_='col-xs-12 content-precio-producto').find('del', class_='precio-old').text.replace('€','')\n",
    "    except:\n",
    "        oldprice = '-'\n",
    "        \n",
    "    try:    \n",
    "        category = soup.find('span', class_='subtit-ficha-producto').text.strip()\n",
    "    except:\n",
    "        category = '-'\n",
    "    \n",
    "    try:\n",
    "        discount = soup.find('span', class_='discount-perc').text.strip()\n",
    "    except:\n",
    "        discount = '-'\n",
    "        \n",
    "    try:\n",
    "        reference = soup.find('span', class_='numero-referencia-producto').text.strip()\n",
    "    except:\n",
    "        reference = '-'\n",
    "        \n",
    "    url = link\n",
    "        \n",
    "    toys = {\n",
    "        \n",
    "        'name': name,\n",
    "        'brand': brand,\n",
    "        'reference': reference,\n",
    "        'actual price': price,\n",
    "        'old price': oldprice,\n",
    "        'discount': discount,\n",
    "        'category': category,\n",
    "        'url': url\n",
    "        }\n",
    "\n",
    "    toy_list.append(toys)\n",
    "    print(price)\n",
    "    \n",
    "#     print('Saved: ', toys['name'])\n",
    "    \n",
    "# df = pd.DataFrame(toy_list)\n",
    "# df.to_csv('belover_juguetes.csv', index=False)\n",
    "# print('All saved!')"
   ]
  },
  {
   "cell_type": "code",
   "execution_count": null,
   "id": "24879e05",
   "metadata": {},
   "outputs": [],
   "source": []
  }
 ],
 "metadata": {
  "kernelspec": {
   "display_name": "Python 3 (ipykernel)",
   "language": "python",
   "name": "python3"
  },
  "language_info": {
   "codemirror_mode": {
    "name": "ipython",
    "version": 3
   },
   "file_extension": ".py",
   "mimetype": "text/x-python",
   "name": "python",
   "nbconvert_exporter": "python",
   "pygments_lexer": "ipython3",
   "version": "3.9.7"
  }
 },
 "nbformat": 4,
 "nbformat_minor": 5
}
